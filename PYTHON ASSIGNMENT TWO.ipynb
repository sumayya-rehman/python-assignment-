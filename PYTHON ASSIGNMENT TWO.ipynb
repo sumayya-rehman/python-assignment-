{
 "cells": [
  {
   "cell_type": "code",
   "execution_count": 6,
   "metadata": {},
   "outputs": [
    {
     "name": "stdout",
     "output_type": "stream",
     "text": [
      "enter english marks 90\n",
      "enter urdu marks 89\n",
      "enter math marks 78\n",
      "enter science marks 87\n",
      "enter sindhi marks 90\n",
      "percentage= 86.8\n",
      "A-ONE GRADE\n"
     ]
    }
   ],
   "source": [
    "# QUESTION NO:01\n",
    "#Write a program which takes 5 inputs from user for different subject’s\n",
    "#marks, total it and generate mark sheet using grades ?\n",
    "a=int(input(\"enter english marks\"))\n",
    "b=int(input(\"enter urdu marks\"))\n",
    "c=int(input(\"enter math marks\"))\n",
    "d=int(input(\"enter science marks\"))\n",
    "e=int(input(\"enter sindhi marks\"))\n",
    "sum= a+ b+ c+ d+ e\n",
    "percentage=(sum/500)*100\n",
    "print(\"percentage=\",percentage)\n",
    "if percentage>=80:\n",
    "    print(\"A-ONE GRADE\")\n",
    "elif percentage>=70:\n",
    "    print(\"A GRADE\")\n",
    "else:\n",
    "    print(\"B GRADE\")\n",
    "        "
   ]
  },
  {
   "cell_type": "code",
   "execution_count": 12,
   "metadata": {},
   "outputs": [
    {
     "name": "stdout",
     "output_type": "stream",
     "text": [
      "enter any number9\n",
      "number is odd\n"
     ]
    }
   ],
   "source": [
    "#QUESTION NO: 02\n",
    "#Write a program which take input from user and identify that the given number is even or odd?\n",
    "a=int(input(\"enter any number\"))\n",
    "if a%2==0:\n",
    "    print(\"number is even\")\n",
    "else:\n",
    "    print(\"number is odd\")\n",
    "        "
   ]
  },
  {
   "cell_type": "code",
   "execution_count": 14,
   "metadata": {},
   "outputs": [
    {
     "name": "stdout",
     "output_type": "stream",
     "text": [
      "['p', 'r', 'o', 'b', 'e']\n"
     ]
    }
   ],
   "source": [
    "#QUESTION NO: 03\n",
    "#Write a program which print the length of the list?\n",
    "my_list = ['p','r','o','b','e']\n",
    "print(my_list)\n"
   ]
  },
  {
   "cell_type": "code",
   "execution_count": 20,
   "metadata": {},
   "outputs": [
    {
     "name": "stdout",
     "output_type": "stream",
     "text": [
      "sum of list= 231\n"
     ]
    }
   ],
   "source": [
    "#QUESTION NO: 04\n",
    "#Write a Python program to sum all the numeric items in a list?\n",
    "# Python program to find sum of elements in list \n",
    "list=[66,34,33,47,51]\n",
    "x=len(list)\n",
    "total=0\n",
    "for i in range (x):\n",
    "    total+=list[i]\n",
    "print(\"sum of list=\",total)"
   ]
  },
  {
   "cell_type": "code",
   "execution_count": 21,
   "metadata": {},
   "outputs": [
    {
     "name": "stdout",
     "output_type": "stream",
     "text": [
      "Largest element is: 99\n"
     ]
    }
   ],
   "source": [
    "#QUESTION NO:05\n",
    "#Write a Python program to get the largest number from a numeric list.\n",
    "list1 = [10, 20, 4, 45, 99]  \n",
    "print(\"Largest element is:\", max(list1)) "
   ]
  },
  {
   "cell_type": "code",
   "execution_count": 22,
   "metadata": {},
   "outputs": [
    {
     "name": "stdout",
     "output_type": "stream",
     "text": [
      "1\n",
      "1\n",
      "2\n",
      "3\n"
     ]
    }
   ],
   "source": [
    "#QUESTION NO: 06\n",
    "#Take a list, say for example this one: a = [1, 1, 2, 3, 5, 8, 13, 21, 34, 55, 89]and\n",
    "#write a program that prints out all the elements of the list that are less than 5.\n",
    "list=[1,1,2,3,5,8,13,21,34,55,89]\n",
    "x=len(list)\n",
    "for i in range(x):\n",
    "    if list[i]<5:\n",
    "        print(list[i])"
   ]
  },
  {
   "cell_type": "code",
   "execution_count": null,
   "metadata": {},
   "outputs": [],
   "source": []
  }
 ],
 "metadata": {
  "kernelspec": {
   "display_name": "Python 3",
   "language": "python",
   "name": "python3"
  },
  "language_info": {
   "codemirror_mode": {
    "name": "ipython",
    "version": 3
   },
   "file_extension": ".py",
   "mimetype": "text/x-python",
   "name": "python",
   "nbconvert_exporter": "python",
   "pygments_lexer": "ipython3",
   "version": "3.7.4"
  }
 },
 "nbformat": 4,
 "nbformat_minor": 2
}
